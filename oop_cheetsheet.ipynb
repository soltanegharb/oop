{
 "cells": [
  {
   "cell_type": "markdown",
   "metadata": {},
   "source": [
    "# Object-Oriented Programming (OOP) in Python Cheat Sheet"
   ]
  },
  {
   "cell_type": "markdown",
   "metadata": {},
   "source": [
    "## 1. Classes and Objects"
   ]
  },
  {
   "cell_type": "markdown",
   "metadata": {},
   "source": [
    "### Class Definition:"
   ]
  },
  {
   "cell_type": "code",
   "execution_count": 1,
   "metadata": {},
   "outputs": [],
   "source": [
    "class MyClass:\n",
    "    def __init__(self, value):\n",
    "        self.value = value\n",
    "\n",
    "    def display_value(self):\n",
    "        print(self.value)"
   ]
  },
  {
   "cell_type": "markdown",
   "metadata": {},
   "source": [
    "### Creating an Object:"
   ]
  },
  {
   "cell_type": "code",
   "execution_count": null,
   "metadata": {},
   "outputs": [],
   "source": [
    "obj = MyClass(10)\n",
    "obj.display_value()  # Output: 10"
   ]
  },
  {
   "cell_type": "markdown",
   "metadata": {},
   "source": [
    "## 2. Attributes and Methods"
   ]
  },
  {
   "cell_type": "markdown",
   "metadata": {},
   "source": [
    "### Instance Attributes:"
   ]
  },
  {
   "cell_type": "code",
   "execution_count": 3,
   "metadata": {},
   "outputs": [],
   "source": [
    "class Dog:\n",
    "    def __init__(self, name, age):\n",
    "        self.name = name\n",
    "        self.age = age\n",
    "\n",
    "    def bark(self):\n",
    "        print(f\"{self.name} says woof!\")"
   ]
  },
  {
   "cell_type": "markdown",
   "metadata": {},
   "source": [
    "### Class Attributes:"
   ]
  },
  {
   "cell_type": "code",
   "execution_count": 4,
   "metadata": {},
   "outputs": [],
   "source": [
    "class Dog:\n",
    "    species = \"Canis familiaris\"\n",
    "\n",
    "    def __init__(self, name, age):\n",
    "        self.name = name\n",
    "        self.age = age"
   ]
  },
  {
   "cell_type": "markdown",
   "metadata": {},
   "source": [
    "### Properties in Python\n",
    "Properties in Python provide a way to manage the access to instance attributes. They allow you to define methods that get and set the value of an attribute, while still using attribute access syntax."
   ]
  },
  {
   "cell_type": "markdown",
   "metadata": {},
   "source": [
    "#### Using Properties for Attribute Access\n",
    "##### Basic Property Example:"
   ]
  },
  {
   "cell_type": "code",
   "execution_count": null,
   "metadata": {},
   "outputs": [],
   "source": [
    "class Person:\n",
    "    def __init__(self, name, age):\n",
    "        self._name = name\n",
    "        self._age = age\n",
    "\n",
    "    @property\n",
    "    def name(self):\n",
    "        return self._name\n",
    "\n",
    "    @name.setter\n",
    "    def name(self, value):\n",
    "        if not value:\n",
    "            raise ValueError(\"Name cannot be empty\")\n",
    "        self._name = value\n",
    "\n",
    "    @property\n",
    "    def age(self):\n",
    "        return self._age\n",
    "\n",
    "    @age.setter\n",
    "    def age(self, value):\n",
    "        if value < 0:\n",
    "            raise ValueError(\"Age cannot be negative\")\n",
    "        self._age = value\n",
    "\n",
    "person = Person(\"Alice\", 30)\n",
    "print(person.name)  # Output: Alice\n",
    "person.name = \"Bob\"\n",
    "print(person.name)  # Output: Bob"
   ]
  },
  {
   "cell_type": "markdown",
   "metadata": {},
   "source": [
    "#### Read-Only Property:"
   ]
  },
  {
   "cell_type": "code",
   "execution_count": null,
   "metadata": {},
   "outputs": [],
   "source": [
    "class Circle:\n",
    "    def __init__(self, radius):\n",
    "        self._radius = radius\n",
    "\n",
    "    @property\n",
    "    def radius(self):\n",
    "        return self._radius\n",
    "\n",
    "    @property\n",
    "    def area(self):\n",
    "        return 3.14 * self._radius ** 2\n",
    "\n",
    "circle = Circle(5)\n",
    "print(circle.radius)  # Output: 5\n",
    "print(circle.area)    # Output: 78.5"
   ]
  },
  {
   "cell_type": "markdown",
   "metadata": {},
   "source": [
    "#### Computed Property:"
   ]
  },
  {
   "cell_type": "code",
   "execution_count": null,
   "metadata": {},
   "outputs": [],
   "source": [
    "class Rectangle:\n",
    "    def __init__(self, width, height):\n",
    "        self._width = width\n",
    "        self._height = height\n",
    "\n",
    "    @property\n",
    "    def width(self):\n",
    "        return self._width\n",
    "\n",
    "    @width.setter\n",
    "    def width(self, value):\n",
    "        if value <= 0:\n",
    "            raise ValueError(\"Width must be positive\")\n",
    "        self._width = value\n",
    "\n",
    "    @property\n",
    "    def height(self):\n",
    "        return self._height\n",
    "\n",
    "    @height.setter\n",
    "    def height(self, value):\n",
    "        if value <= 0:\n",
    "            raise ValueError(\"Height must be positive\")\n",
    "        self._height = value\n",
    "\n",
    "    @property\n",
    "    def area(self):\n",
    "        return self._width * self._height\n",
    "\n",
    "rect = Rectangle(4, 5)\n",
    "print(rect.area)  # Output: 20\n",
    "rect.width = 6\n",
    "print(rect.area)  # Output: 30"
   ]
  },
  {
   "cell_type": "markdown",
   "metadata": {},
   "source": [
    "#### Deleting a Property:"
   ]
  },
  {
   "cell_type": "code",
   "execution_count": null,
   "metadata": {},
   "outputs": [],
   "source": [
    "class Person:\n",
    "    def __init__(self, name):\n",
    "        self._name = name\n",
    "\n",
    "    @property\n",
    "    def name(self):\n",
    "        return self._name\n",
    "\n",
    "    @name.deleter\n",
    "    def name(self):\n",
    "        del self._name\n",
    "\n",
    "person = Person(\"Alice\")\n",
    "print(person.name)  # Output: Alice\n",
    "del person.name\n",
    "# print(person.name)  # This will raise an AttributeError"
   ]
  },
  {
   "cell_type": "markdown",
   "metadata": {},
   "source": [
    "## 3. Inheritance"
   ]
  },
  {
   "cell_type": "markdown",
   "metadata": {},
   "source": [
    "### Single Inheritance:"
   ]
  },
  {
   "cell_type": "code",
   "execution_count": null,
   "metadata": {},
   "outputs": [],
   "source": [
    "class Animal:\n",
    "    def __init__(self, name):\n",
    "        self.name = name\n",
    "\n",
    "    def speak(self):\n",
    "        raise NotImplementedError(\"Subclasses must implement this method\")\n",
    "\n",
    "class Dog(Animal):\n",
    "    def speak(self):\n",
    "        return f\"{self.name} says woof!\""
   ]
  },
  {
   "cell_type": "markdown",
   "metadata": {},
   "source": [
    "### Multiple Inheritance:"
   ]
  },
  {
   "cell_type": "code",
   "execution_count": null,
   "metadata": {},
   "outputs": [],
   "source": [
    "class Canine:\n",
    "    def bark(self):\n",
    "        return \"Woof!\"\n",
    "\n",
    "class Pet:\n",
    "    def play(self):\n",
    "        return \"Playing!\"\n",
    "\n",
    "class Dog(Canine, Pet):\n",
    "    pass\n",
    "\n",
    "dog = Dog()\n",
    "print(dog.bark())  # Output: Woof!\n",
    "print(dog.play())  # Output: Playing!"
   ]
  },
  {
   "cell_type": "markdown",
   "metadata": {},
   "source": [
    "## 4. Encapsulation"
   ]
  },
  {
   "cell_type": "markdown",
   "metadata": {},
   "source": [
    "### Private Attributes:"
   ]
  },
  {
   "cell_type": "code",
   "execution_count": null,
   "metadata": {},
   "outputs": [],
   "source": [
    "class Car:\n",
    "    def __init__(self, make, model):\n",
    "        self.__make = make\n",
    "        self.__model = model\n",
    "\n",
    "    def get_make(self):\n",
    "        return self.__make\n",
    "\n",
    "    def get_model(self):\n",
    "        return self.__model"
   ]
  },
  {
   "cell_type": "markdown",
   "metadata": {},
   "source": [
    "### Protected Attributes:"
   ]
  },
  {
   "cell_type": "code",
   "execution_count": null,
   "metadata": {},
   "outputs": [],
   "source": [
    "class Car:\n",
    "    def __init__(self, make, model):\n",
    "        self._make = make\n",
    "        self._model = model"
   ]
  },
  {
   "cell_type": "markdown",
   "metadata": {},
   "source": [
    "## 5. Polymorphism"
   ]
  },
  {
   "cell_type": "markdown",
   "metadata": {},
   "source": [
    "### Method Overriding:"
   ]
  },
  {
   "cell_type": "code",
   "execution_count": null,
   "metadata": {},
   "outputs": [],
   "source": [
    "class Animal:\n",
    "    def speak(self):\n",
    "        raise NotImplementedError(\"Subclasses must implement this method\")\n",
    "\n",
    "class Dog(Animal):\n",
    "    def speak(self):\n",
    "        return \"Woof!\"\n",
    "\n",
    "class Cat(Animal):\n",
    "    def speak(self):\n",
    "        return \"Meow!\"\n",
    "\n",
    "animals = [Dog(), Cat()]\n",
    "for animal in animals:\n",
    "    print(animal.speak())"
   ]
  },
  {
   "cell_type": "markdown",
   "metadata": {},
   "source": [
    "### Method Overloading (Not natively supported, but can be mimicked):"
   ]
  },
  {
   "cell_type": "code",
   "execution_count": null,
   "metadata": {},
   "outputs": [],
   "source": [
    "class Math:\n",
    "    def add(self, a, b, c=None):\n",
    "        if c:\n",
    "            return a + b + c\n",
    "        else:\n",
    "            return a + b\n",
    "\n",
    "math = Math()\n",
    "print(math.add(1, 2))      # Output: 3\n",
    "print(math.add(1, 2, 3))   # Output: 6"
   ]
  },
  {
   "cell_type": "markdown",
   "metadata": {},
   "source": [
    "## 6. Abstraction"
   ]
  },
  {
   "cell_type": "markdown",
   "metadata": {},
   "source": [
    "### Abstract Base Classes:"
   ]
  },
  {
   "cell_type": "code",
   "execution_count": null,
   "metadata": {},
   "outputs": [],
   "source": [
    "from abc import ABC, abstractmethod\n",
    "\n",
    "class Shape(ABC):\n",
    "    @abstractmethod\n",
    "    def area(self):\n",
    "        pass\n",
    "\n",
    "class Rectangle(Shape):\n",
    "    def __init__(self, width, height):\n",
    "        self.width = width\n",
    "        self.height = height\n",
    "\n",
    "    def area(self):\n",
    "        return self.width * self.height\n",
    "\n",
    "rect = Rectangle(3, 4)\n",
    "print(rect.area())  # Output: 12"
   ]
  },
  {
   "cell_type": "markdown",
   "metadata": {},
   "source": [
    "## 7. Composition"
   ]
  },
  {
   "cell_type": "markdown",
   "metadata": {},
   "source": [
    "### Using Objects as Attributes:"
   ]
  },
  {
   "cell_type": "code",
   "execution_count": null,
   "metadata": {},
   "outputs": [],
   "source": [
    "class Engine:\n",
    "    def start(self):\n",
    "        return \"Engine started\"\n",
    "\n",
    "class Car:\n",
    "    def __init__(self):\n",
    "        self.engine = Engine()\n",
    "\n",
    "    def start(self):\n",
    "        return self.engine.start()\n",
    "\n",
    "car = Car()\n",
    "print(car.start())  # Output: Engine started"
   ]
  },
  {
   "cell_type": "markdown",
   "metadata": {},
   "source": [
    "## 8. SOLID Principles"
   ]
  },
  {
   "cell_type": "markdown",
   "metadata": {},
   "source": [
    "### Single Responsibility Principle:\n",
    "The Single Responsibility Principle states that a class should have only one reason to change, meaning it should have only one job or responsibility.\n",
    "\n",
    "#### Explanation:\n",
    "\n",
    "A class should only have one responsibility or one reason to change.\n",
    "This principle helps in making the system easier to understand, maintain, and refactor.\n",
    "\n",
    "In this example, UserInfo handles user data, UserAuth handles authentication, and UserProfile handles displaying user profile information. Each class has a single responsibility."
   ]
  },
  {
   "cell_type": "code",
   "execution_count": null,
   "metadata": {},
   "outputs": [],
   "source": [
    "class UserInfo:\n",
    "    def __init__(self, username, password):\n",
    "        self.username = username\n",
    "        self.password = password\n",
    "\n",
    "class UserAuth:\n",
    "    def __init__(self, user_info):\n",
    "        self.user_info = user_info\n",
    "\n",
    "    def authenticate(self, password):\n",
    "        return self.user_info.password == password\n",
    "\n",
    "class UserProfile:\n",
    "    def __init__(self, user_info):\n",
    "        self.user_info = user_info\n",
    "\n",
    "    def display_profile(self):\n",
    "        return f\"Username: {self.user_info.username}\""
   ]
  },
  {
   "cell_type": "markdown",
   "metadata": {},
   "source": [
    "### Open/Closed Principle:"
   ]
  },
  {
   "cell_type": "markdown",
   "metadata": {},
   "source": [
    "The Open/Closed Principle states that software entities (classes, modules, functions, etc.) should be open for extension but closed for modification.\n",
    "\n",
    "#### Explanation:\n",
    "\n",
    "You should be able to add new functionality to a class without changing its existing code.\n",
    "This principle helps in making the system more flexible and easier to extend.\n",
    "\n",
    "In this example, the Shape class is open for extension (you can add new shapes like Circle and Rectangle), but closed for modification (you don't need to change the Shape class to add new shapes)."
   ]
  },
  {
   "cell_type": "code",
   "execution_count": null,
   "metadata": {},
   "outputs": [],
   "source": [
    "class Shape:\n",
    "    def area(self):\n",
    "        raise NotImplementedError(\"Subclasses must implement this method\")\n",
    "\n",
    "class Circle(Shape):\n",
    "    def __init__(self, radius):\n",
    "        self.radius = radius\n",
    "\n",
    "    def area(self):\n",
    "        return 3.14 * self.radius ** 2\n",
    "\n",
    "class Rectangle(Shape):\n",
    "    def __init__(self, length, width):\n",
    "        self.length = length\n",
    "        self.width = width\n",
    "\n",
    "    def area(self):\n",
    "        return self.length * self.width\n",
    "\n",
    "def calculate_area(shapes):\n",
    "    for shape in shapes:\n",
    "        print(shape.area())\n",
    "\n",
    "shapes = [Circle(5), Rectangle(4, 6)]\n",
    "calculate_area(shapes)"
   ]
  },
  {
   "cell_type": "markdown",
   "metadata": {},
   "source": [
    "### Liskov Substitution Principle:"
   ]
  },
  {
   "cell_type": "markdown",
   "metadata": {},
   "source": [
    "The Liskov Substitution Principle states that objects of a superclass should be replaceable with objects of a subclass without affecting the correctness of the program.\n",
    "\n",
    "#### Explanation:\n",
    "\n",
    "Subclasses should be substitutable for their base classes.\n",
    "This principle ensures that a subclass can stand in for its superclass without causing errors or unexpected behavior.\n",
    "\n",
    "In this example, Sparrow can replace Bird without any issues, but Penguin violates the Liskov Substitution Principle because it cannot fly, which is expected behavior for a Bird."
   ]
  },
  {
   "cell_type": "code",
   "execution_count": null,
   "metadata": {},
   "outputs": [],
   "source": [
    "class Bird:\n",
    "    def fly(self):\n",
    "        raise NotImplementedError(\"Subclasses must implement this method\")\n",
    "\n",
    "class Sparrow(Bird):\n",
    "    def fly(self):\n",
    "        return \"Sparrow is flying\"\n",
    "\n",
    "class Penguin(Bird):\n",
    "    def fly(self):\n",
    "        raise Exception(\"Penguins cannot fly\")\n",
    "\n",
    "def make_bird_fly(bird):\n",
    "    return bird.fly()\n",
    "\n",
    "sparrow = Sparrow()\n",
    "print(make_bird_fly(sparrow))  # Output: Sparrow is flying\n",
    "\n",
    "penguin = Penguin()\n",
    "# print(make_bird_fly(penguin))  # This will raise an Exception\n"
   ]
  },
  {
   "cell_type": "markdown",
   "metadata": {},
   "source": [
    "### Interface Segregation Principle:"
   ]
  },
  {
   "cell_type": "markdown",
   "metadata": {},
   "source": [
    "The Interface Segregation Principle states that no client should be forced to depend on methods it does not use.\n",
    "\n",
    "#### Explanation:\n",
    "\n",
    "Clients should not be forced to implement interfaces they do not use.\n",
    "This principle helps in creating more focused and cohesive interfaces.\n",
    "\n",
    "In this example, BasicPrinter only implements the Printer interface, while AllInOnePrinter implements both Printer and Scanner interfaces. This way, BasicPrinter is not forced to implement the scan_document method, adhering to the Interface Segregation Principle."
   ]
  },
  {
   "cell_type": "code",
   "execution_count": null,
   "metadata": {},
   "outputs": [],
   "source": [
    "from abc import ABC, abstractmethod\n",
    "\n",
    "class Printer(ABC):\n",
    "    @abstractmethod\n",
    "    def print_document(self, document):\n",
    "        pass\n",
    "\n",
    "class Scanner(ABC):\n",
    "    @abstractmethod\n",
    "    def scan_document(self, document):\n",
    "        pass\n",
    "\n",
    "class BasicPrinter(Printer):\n",
    "    def print_document(self, document):\n",
    "        return f\"Printing: {document}\"\n",
    "\n",
    "class AllInOnePrinter(Printer, Scanner):\n",
    "    def print_document(self, document):\n",
    "        return f\"Printing: {document}\"\n",
    "\n",
    "    def scan_document(self, document):\n",
    "        return f\"Scanning: {document}\""
   ]
  },
  {
   "cell_type": "markdown",
   "metadata": {},
   "source": [
    "### Dependency Inversion Principle:"
   ]
  },
  {
   "cell_type": "markdown",
   "metadata": {},
   "source": [
    "The Dependency Inversion Principle states that high-level modules should not depend on low-level modules. Both should depend on abstractions. Additionally, abstractions should not depend on details. Details should depend on abstractions.\n",
    "\n",
    "#### Explanation:\n",
    "\n",
    "High-level modules should not depend on low-level modules; both should depend on abstractions.\n",
    "This principle helps in reducing the coupling between different modules of the system.\n",
    "\n",
    "In this example, the Application class depends on the DatabaseConnection abstraction rather than a specific database implementation. This allows the Application class to work with any database that implements the DatabaseConnection interface, adhering to the Dependency Inversion Principle."
   ]
  },
  {
   "cell_type": "code",
   "execution_count": null,
   "metadata": {},
   "outputs": [],
   "source": [
    "from abc import ABC, abstractmethod\n",
    "\n",
    "class DatabaseConnection(ABC):\n",
    "    @abstractmethod\n",
    "    def connect(self):\n",
    "        pass\n",
    "\n",
    "    @abstractmethod\n",
    "    def disconnect(self):\n",
    "        pass\n",
    "\n",
    "class MySQLDatabase(DatabaseConnection):\n",
    "    def connect(self):\n",
    "        return \"MySQL Database connected\"\n",
    "\n",
    "    def disconnect(self):\n",
    "        return \"MySQL Database disconnected\"\n",
    "\n",
    "class PostgreSQLDatabase(DatabaseConnection):\n",
    "    def connect(self):\n",
    "        return \"PostgreSQL Database connected\"\n",
    "\n",
    "    def disconnect(self):\n",
    "        return \"PostgreSQL Database disconnected\"\n",
    "\n",
    "class Application:\n",
    "    def __init__(self, database: DatabaseConnection):\n",
    "        self.database = database\n",
    "\n",
    "    def start(self):\n",
    "        return self.database.connect()\n",
    "\n",
    "    def stop(self):\n",
    "        return self.database.disconnect()\n",
    "\n",
    "mysql_db = MySQLDatabase()\n",
    "app = Application(mysql_db)\n",
    "print(app.start())  # Output: MySQL Database connected\n",
    "\n",
    "postgres_db = PostgreSQLDatabase()\n",
    "app = Application(postgres_db)\n",
    "print(app.start())  # Output: PostgreSQL Database connected"
   ]
  },
  {
   "cell_type": "markdown",
   "metadata": {},
   "source": [
    "## 9. Design Patterns"
   ]
  },
  {
   "cell_type": "markdown",
   "metadata": {},
   "source": [
    "### Singleton Pattern:"
   ]
  },
  {
   "cell_type": "code",
   "execution_count": null,
   "metadata": {},
   "outputs": [],
   "source": [
    "class Singleton:\n",
    "    _instance = None\n",
    "\n",
    "    def __new__(cls, *args, **kwargs):\n",
    "        if not cls._instance:\n",
    "            cls._instance = super(Singleton, cls).__new__(cls, *args, **kwargs)\n",
    "        return cls._instance\n",
    "\n",
    "singleton1 = Singleton()\n",
    "singleton2 = Singleton()\n",
    "print(singleton1 is singleton2)  # Output: True"
   ]
  },
  {
   "cell_type": "markdown",
   "metadata": {},
   "source": [
    "### Factory Pattern:"
   ]
  },
  {
   "cell_type": "code",
   "execution_count": null,
   "metadata": {},
   "outputs": [],
   "source": [
    "class Dog:\n",
    "    def speak(self):\n",
    "        return \"Woof!\"\n",
    "\n",
    "class Cat:\n",
    "    def speak(self):\n",
    "        return \"Meow!\"\n",
    "\n",
    "class AnimalFactory:\n",
    "    @staticmethod\n",
    "    def get_animal(animal_type):\n",
    "        if animal_type == \"dog\":\n",
    "            return Dog()\n",
    "        elif animal_type == \"cat\":\n",
    "            return Cat()\n",
    "        else:\n",
    "            return None\n",
    "\n",
    "dog = AnimalFactory.get_animal(\"dog\")\n",
    "print(dog.speak())  # Output: Woof!"
   ]
  },
  {
   "cell_type": "markdown",
   "metadata": {},
   "source": [
    "### Observer Pattern:"
   ]
  },
  {
   "cell_type": "code",
   "execution_count": null,
   "metadata": {},
   "outputs": [],
   "source": [
    "class Subject:\n",
    "    def __init__(self):\n",
    "        self._observers = []\n",
    "\n",
    "    def attach(self, observer):\n",
    "        self._observers.append(observer)\n",
    "\n",
    "    def detach(self, observer):\n",
    "        self._observers.remove(observer)\n",
    "\n",
    "    def notify(self, message):\n",
    "        for observer in self._observers:\n",
    "            observer.update(message)\n",
    "\n",
    "class Observer:\n",
    "    def update(self, message):\n",
    "        raise NotImplementedError(\"Subclasses must implement this method\")\n",
    "\n",
    "class ConcreteObserver(Observer):\n",
    "    def update(self, message):\n",
    "        print(f\"Received message: {message}\")\n",
    "\n",
    "subject = Subject()\n",
    "observer = ConcreteObserver()\n",
    "subject.attach(observer)\n",
    "subject.notify(\"Hello, Observer!\")"
   ]
  },
  {
   "cell_type": "markdown",
   "metadata": {},
   "source": [
    "### Decorator Pattern:"
   ]
  },
  {
   "cell_type": "code",
   "execution_count": null,
   "metadata": {},
   "outputs": [],
   "source": [
    "def decorator(func):\n",
    "    def wrapper(*args, **kwargs):\n",
    "        print(\"Before function call\")\n",
    "        result = func(*args, **kwargs)\n",
    "        print(\"After function call\")\n",
    "        return result\n",
    "    return wrapper\n",
    "\n",
    "@decorator\n",
    "def say_hello():\n",
    "    print(\"Hello!\")\n",
    "\n",
    "say_hello()\n",
    "# Output:\n",
    "# Before function call\n",
    "# Hello!\n",
    "# After function call"
   ]
  },
  {
   "cell_type": "markdown",
   "metadata": {},
   "source": [
    "### Strategy Pattern:"
   ]
  },
  {
   "cell_type": "code",
   "execution_count": null,
   "metadata": {},
   "outputs": [],
   "source": [
    "class Strategy:\n",
    "    def execute(self, a, b):\n",
    "        raise NotImplementedError(\"Subclasses must implement this method\")\n",
    "\n",
    "class Addition(Strategy):\n",
    "    def execute(self, a, b):\n",
    "        return a + b\n",
    "\n",
    "class Subtraction(Strategy):\n",
    "    def execute(self, a, b):\n",
    "        return a - b\n",
    "\n",
    "class Context:\n",
    "    def __init__(self, strategy):\n",
    "        self._strategy = strategy\n",
    "\n",
    "    def set_strategy(self, strategy):\n",
    "        self._strategy = strategy\n",
    "\n",
    "    def execute_strategy(self, a, b):\n",
    "        return self._strategy.execute(a, b)\n",
    "\n",
    "context = Context(Addition())\n",
    "print(context.execute_strategy(5, 3))  # Output: 8\n",
    "context.set_strategy(Subtraction())\n",
    "print(context.execute_strategy(5, 3))  # Output: 2"
   ]
  },
  {
   "cell_type": "markdown",
   "metadata": {},
   "source": [
    "### Adapter Pattern:"
   ]
  },
  {
   "cell_type": "code",
   "execution_count": null,
   "metadata": {},
   "outputs": [],
   "source": [
    "class EuropeanSocket:\n",
    "    def voltage(self):\n",
    "        return 230\n",
    "\n",
    "    def live(self):\n",
    "        return 1\n",
    "\n",
    "    def neutral(self):\n",
    "        return -1\n",
    "\n",
    "class AmericanSocket:\n",
    "    def voltage(self):\n",
    "        return 120\n",
    "\n",
    "    def live(self):\n",
    "        return 1\n",
    "\n",
    "    def neutral(self):\n",
    "        return 0\n",
    "\n",
    "class Adapter(AmericanSocket):\n",
    "    def __init__(self, european_socket):\n",
    "        self.european_socket = european_socket\n",
    "\n",
    "    def voltage(self):\n",
    "        return self.european_socket.voltage()\n",
    "\n",
    "    def live(self):\n",
    "        return self.european_socket.live()\n",
    "\n",
    "    def neutral(self):\n",
    "        return self.european_socket.neutral()\n",
    "\n",
    "european_socket = EuropeanSocket()\n",
    "adapter = Adapter(european_socket)\n",
    "print(adapter.voltage())  # Output: 230"
   ]
  },
  {
   "cell_type": "markdown",
   "metadata": {},
   "source": [
    "### Facade Pattern:"
   ]
  },
  {
   "cell_type": "code",
   "execution_count": null,
   "metadata": {},
   "outputs": [],
   "source": [
    "class CPU:\n",
    "    def freeze(self):\n",
    "        print(\"CPU freezing\")\n",
    "\n",
    "    def jump(self, position):\n",
    "        print(f\"CPU jumping to {position}\")\n",
    "\n",
    "    def execute(self):\n",
    "        print(\"CPU executing\")\n",
    "\n",
    "class Memory:\n",
    "    def load(self, position, data):\n",
    "        print(f\"Memory loading {data} at {position}\")\n",
    "\n",
    "class HardDrive:\n",
    "    def read(self, lba, size):\n",
    "        return f\"Reading {size} bytes from {lba}\"\n",
    "\n",
    "class ComputerFacade:\n",
    "    def __init__(self):\n",
    "        self.cpu = CPU()\n",
    "        self.memory = Memory()\n",
    "        self.hard_drive = HardDrive()\n",
    "\n",
    "    def start(self):\n",
    "        self.cpu.freeze()\n",
    "        self.memory.load(0, self.hard_drive.read(0, 1024))\n",
    "        self.cpu.jump(0)\n",
    "        self.cpu.execute()\n",
    "\n",
    "computer = ComputerFacade()\n",
    "computer.start()"
   ]
  },
  {
   "cell_type": "markdown",
   "metadata": {},
   "source": [
    "### Command Pattern:"
   ]
  },
  {
   "cell_type": "code",
   "execution_count": null,
   "metadata": {},
   "outputs": [],
   "source": [
    "class Command:\n",
    "    def execute(self):\n",
    "        raise NotImplementedError(\"Subclasses must implement this method\")\n",
    "\n",
    "class Light:\n",
    "    def on(self):\n",
    "        print(\"Light is on\")\n",
    "\n",
    "    def off(self):\n",
    "        print(\"Light is off\")\n",
    "\n",
    "class LightOnCommand(Command):\n",
    "    def __init__(self, light):\n",
    "        self.light = light\n",
    "\n",
    "    def execute(self):\n",
    "        self.light.on()\n",
    "\n",
    "class LightOffCommand(Command):\n",
    "    def __init__(self, light):\n",
    "        self.light = light\n",
    "\n",
    "    def execute(self):\n",
    "        self.light.off()\n",
    "\n",
    "class RemoteControl:\n",
    "    def __init__(self):\n",
    "        self.commands = {}\n",
    "\n",
    "    def set_command(self, button, command):\n",
    "        self.commands[button] = command\n",
    "\n",
    "    def press_button(self, button):\n",
    "        if button in self.commands:\n",
    "            self.commands[button].execute()\n",
    "\n",
    "light = Light()\n",
    "remote = RemoteControl()\n",
    "remote.set_command(\"on\", LightOnCommand(light))\n",
    "remote.set_command(\"off\", LightOffCommand(light))\n",
    "remote.press_button(\"on\")  # Output: Light is on\n",
    "remote.press_button(\"off\")  # Output: Light is off"
   ]
  },
  {
   "cell_type": "markdown",
   "metadata": {},
   "source": [
    "### Proxy Pattern:"
   ]
  },
  {
   "cell_type": "code",
   "execution_count": null,
   "metadata": {},
   "outputs": [],
   "source": [
    "class RealSubject:\n",
    "    def request(self):\n",
    "        return \"RealSubject: Handling request.\"\n",
    "\n",
    "class Proxy:\n",
    "    def __init__(self, real_subject):\n",
    "        self._real_subject = real_subject\n",
    "\n",
    "    def request(self):\n",
    "        if self.check_access():\n",
    "            return self._real_subject.request()\n",
    "        else:\n",
    "            return \"Proxy: Access denied.\"\n",
    "\n",
    "    def check_access(self):\n",
    "        # Simulate access control\n",
    "        return True\n",
    "\n",
    "real_subject = RealSubject()\n",
    "proxy = Proxy(real_subject)\n",
    "print(proxy.request())  # Output: RealSubject: Handling request."
   ]
  },
  {
   "cell_type": "markdown",
   "metadata": {},
   "source": [
    "### Flyweight Pattern:"
   ]
  },
  {
   "cell_type": "code",
   "execution_count": null,
   "metadata": {},
   "outputs": [],
   "source": [
    "class Flyweight:\n",
    "    _instances = {}\n",
    "\n",
    "    def __new__(cls, shared_state):\n",
    "        if shared_state not in cls._instances:\n",
    "            cls._instances[shared_state] = super(Flyweight, cls).__new__(cls)\n",
    "            cls._instances[shared_state].shared_state = shared_state\n",
    "        return cls._instances[shared_state]\n",
    "\n",
    "fw1 = Flyweight(\"shared\")\n",
    "fw2 = Flyweight(\"shared\")\n",
    "fw3 = Flyweight(\"unique\")\n",
    "print(fw1 is fw2)  # Output: True\n",
    "print(fw1 is fw3)  # Output: False"
   ]
  },
  {
   "cell_type": "markdown",
   "metadata": {},
   "source": [
    "### Chain of Responsibility Pattern:"
   ]
  },
  {
   "cell_type": "code",
   "execution_count": null,
   "metadata": {},
   "outputs": [],
   "source": [
    "class Handler:\n",
    "    def __init__(self, successor=None):\n",
    "        self._successor = successor\n",
    "\n",
    "    def handle(self, request):\n",
    "        if self._successor:\n",
    "            self._successor.handle(request)\n",
    "\n",
    "class HandlerA(Handler):\n",
    "    def handle(self, request):\n",
    "        if request == \"A\":\n",
    "            print(\"HandlerA handled request\")\n",
    "        else:\n",
    "            super().handle(request)\n",
    "\n",
    "class HandlerB(Handler):\n",
    "    def handle(self, request):\n",
    "        if request == \"B\":\n",
    "            print(\"HandlerB handled request\")\n",
    "        else:\n",
    "            super().handle(request)\n",
    "\n",
    "handler_chain = HandlerA(HandlerB())\n",
    "handler_chain.handle(\"A\")  # Output: HandlerA handled request\n",
    "handler_chain.handle(\"B\")  # Output: HandlerB handled request\n",
    "handler_chain.handle(\"C\")  # No output"
   ]
  },
  {
   "cell_type": "markdown",
   "metadata": {},
   "source": [
    "### Mediator Pattern:"
   ]
  },
  {
   "cell_type": "code",
   "execution_count": null,
   "metadata": {},
   "outputs": [],
   "source": [
    "class Mediator:\n",
    "    def notify(self, sender, event):\n",
    "        raise NotImplementedError(\"Subclasses must implement this method\")\n",
    "\n",
    "class ConcreteMediator(Mediator):\n",
    "    def __init__(self):\n",
    "        self._colleague_a = None\n",
    "        self._colleague_b = None\n",
    "\n",
    "    def set_colleague_a(self, colleague):\n",
    "        self._colleague_a = colleague\n",
    "\n",
    "    def set_colleague_b(self, colleague):\n",
    "        self._colleague_b = colleague\n",
    "\n",
    "    def notify(self, sender, event):\n",
    "        if event == \"A\":\n",
    "            print(\"Mediator reacts on A and triggers B\")\n",
    "            self._colleague_b.do_b()\n",
    "        elif event == \"B\":\n",
    "            print(\"Mediator reacts on B and triggers A\")\n",
    "            self._colleague_a.do_a()\n",
    "\n",
    "class Colleague:\n",
    "    def __init__(self, mediator):\n",
    "        self._mediator = mediator\n",
    "\n",
    "class ColleagueA(Colleague):\n",
    "    def do_a(self):\n",
    "        print(\"ColleagueA does A\")\n",
    "        self._mediator.notify(self, \"A\")\n",
    "\n",
    "class ColleagueB(Colleague):\n",
    "    def do_b(self):\n",
    "        print(\"ColleagueB does B\")\n",
    "        self._mediator.notify(self, \"B\")\n",
    "\n",
    "mediator = ConcreteMediator()\n",
    "colleague_a = ColleagueA(mediator)\n",
    "colleague_b = ColleagueB(mediator)\n",
    "mediator.set_colleague_a(colleague_a)\n",
    "mediator.set_colleague_b(colleague_b)\n",
    "\n",
    "colleague_a.do_a()\n",
    "# Output:\n",
    "# ColleagueA does A\n",
    "# Mediator reacts on A and triggers B\n",
    "# ColleagueB does B"
   ]
  },
  {
   "cell_type": "markdown",
   "metadata": {},
   "source": [
    "### Memento Pattern:"
   ]
  },
  {
   "cell_type": "code",
   "execution_count": null,
   "metadata": {},
   "outputs": [],
   "source": [
    "class Memento:\n",
    "    def __init__(self, state):\n",
    "        self._state = state\n",
    "\n",
    "    def get_state(self):\n",
    "        return self._state\n",
    "\n",
    "class Originator:\n",
    "    def __init__(self, state):\n",
    "        self._state = state\n",
    "\n",
    "    def save_state(self):\n",
    "        return Memento(self._state)\n",
    "\n",
    "    def restore_state(self, memento):\n",
    "        self._state = memento.get_state()\n",
    "\n",
    "    def set_state(self, state):\n",
    "        self._state = state\n",
    "\n",
    "    def get_state(self):\n",
    "        return self._state\n",
    "\n",
    "originator = Originator(\"State1\")\n",
    "memento = originator.save_state()\n",
    "originator.set_state(\"State2\")\n",
    "print(originator.get_state())  # Output: State2\n",
    "originator.restore_state(memento)\n",
    "print(originator.get_state())  # Output: State1"
   ]
  },
  {
   "cell_type": "markdown",
   "metadata": {},
   "source": [
    "### Visitor Pattern:"
   ]
  },
  {
   "cell_type": "code",
   "execution_count": null,
   "metadata": {},
   "outputs": [],
   "source": [
    "class Visitor:\n",
    "    def visit_element_a(self, element):\n",
    "        raise NotImplementedError(\"Subclasses must implement this method\")\n",
    "\n",
    "    def visit_element_b(self, element):\n",
    "        raise NotImplementedError(\"Subclasses must implement this method\")\n",
    "\n",
    "class Element:\n",
    "    def accept(self, visitor):\n",
    "        raise NotImplementedError(\"Subclasses must implement this method\")\n",
    "\n",
    "class ElementA(Element):\n",
    "    def accept(self, visitor):\n",
    "        visitor.visit_element_a(self)\n",
    "\n",
    "class ElementB(Element):\n",
    "    def accept(self, visitor):\n",
    "        visitor.visit_element_b(self)\n",
    "\n",
    "class ConcreteVisitor(Visitor):\n",
    "    def visit_element_a(self, element):\n",
    "        print(\"Visiting ElementA\")\n",
    "\n",
    "    def visit_element_b(self, element):\n",
    "        print(\"Visiting ElementB\")\n",
    "\n",
    "elements = [ElementA(), ElementB()]\n",
    "visitor = ConcreteVisitor()\n",
    "for element in elements:\n",
    "    element.accept(visitor)\n",
    "# Output:\n",
    "# Visiting ElementA\n",
    "# Visiting ElementB"
   ]
  },
  {
   "cell_type": "markdown",
   "metadata": {},
   "source": [
    "### Template Method Pattern:"
   ]
  },
  {
   "cell_type": "code",
   "execution_count": null,
   "metadata": {},
   "outputs": [],
   "source": [
    "class TemplateMethod:\n",
    "    def execute(self):\n",
    "        self.step1()\n",
    "        self.step2()\n",
    "        self.step3()\n",
    "\n",
    "    def step1(self):\n",
    "        raise NotImplementedError(\"Subclasses must implement this method\")\n",
    "\n",
    "    def step2(self):\n",
    "        raise NotImplementedError(\"Subclasses must implement this method\")\n",
    "\n",
    "    def step3(self):\n",
    "        raise NotImplementedError(\"Subclasses must implement this method\")\n",
    "\n",
    "class ConcreteClassA(TemplateMethod):\n",
    "    def step1(self):\n",
    "        print(\"ConcreteClassA: Step 1\")\n",
    "\n",
    "    def step2(self):\n",
    "        print(\"ConcreteClassA: Step 2\")\n",
    "\n",
    "    def step3(self):\n",
    "        print(\"ConcreteClassA: Step 3\")\n",
    "\n",
    "class ConcreteClassB(TemplateMethod):\n",
    "    def step1(self):\n",
    "        print(\"ConcreteClassB: Step 1\")\n",
    "\n",
    "    def step2(self):\n",
    "        print(\"ConcreteClassB: Step 2\")\n",
    "\n",
    "    def step3(self):\n",
    "        print(\"ConcreteClassB: Step 3\")\n",
    "\n",
    "# Use the Template Method pattern\n",
    "objA = ConcreteClassA()\n",
    "objA.execute()\n",
    "# Output:\n",
    "# ConcreteClassA: Step 1\n",
    "# ConcreteClassA: Step 2\n",
    "# ConcreteClassA: Step 3\n",
    "\n",
    "objB = ConcreteClassB()\n",
    "objB.execute()\n",
    "# Output:\n",
    "# ConcreteClassB: Step 1\n",
    "# ConcreteClassB: Step 2\n",
    "# ConcreteClassB: Step 3"
   ]
  },
  {
   "cell_type": "markdown",
   "metadata": {},
   "source": [
    "## 10. Mixins"
   ]
  },
  {
   "cell_type": "markdown",
   "metadata": {},
   "source": [
    "### Using Mixins to Add Functionality:"
   ]
  },
  {
   "cell_type": "code",
   "execution_count": null,
   "metadata": {},
   "outputs": [],
   "source": [
    "class LogMixin:\n",
    "    def log(self, message):\n",
    "        print(f\"Log: {message}\")\n",
    "\n",
    "class Animal:\n",
    "    def __init__(self, name):\n",
    "        self.name = name\n",
    "\n",
    "class Dog(Animal, LogMixin):\n",
    "    def bark(self):\n",
    "        self.log(f\"{self.name} says woof!\")\n",
    "\n",
    "dog = Dog(\"Buddy\")\n",
    "dog.bark()  # Output: Log: Buddy says woof!"
   ]
  },
  {
   "cell_type": "markdown",
   "metadata": {},
   "source": [
    "## 11. Metaclasses"
   ]
  },
  {
   "cell_type": "markdown",
   "metadata": {},
   "source": [
    "### Creating a Custom Metaclass:"
   ]
  },
  {
   "cell_type": "code",
   "execution_count": null,
   "metadata": {},
   "outputs": [],
   "source": [
    "class Meta(type):\n",
    "    def __new__(cls, name, bases, dct):\n",
    "        dct['class_name'] = name\n",
    "        return super().__new__(cls, name, bases, dct)\n",
    "\n",
    "class MyClass(metaclass=Meta):\n",
    "    pass\n",
    "\n",
    "obj = MyClass()\n",
    "print(obj.class_name)  # Output: MyClass"
   ]
  },
  {
   "cell_type": "markdown",
   "metadata": {},
   "source": [
    "## 12. Descriptors"
   ]
  },
  {
   "cell_type": "markdown",
   "metadata": {},
   "source": [
    "### Using Descriptors for Attribute Management:"
   ]
  },
  {
   "cell_type": "code",
   "execution_count": null,
   "metadata": {},
   "outputs": [],
   "source": [
    "class Descriptor:\n",
    "    def __init__(self, name=None):\n",
    "        self.name = name\n",
    "\n",
    "    def __get__(self, instance, owner):\n",
    "        return instance.__dict__[self.name]\n",
    "\n",
    "    def __set__(self, instance, value):\n",
    "        instance.__dict__[self.name] = value\n",
    "\n",
    "    def __delete__(self, instance):\n",
    "        del instance.__dict__[self.name]\n",
    "\n",
    "class MyClass:\n",
    "    attr = Descriptor('attr')\n",
    "\n",
    "    def __init__(self, attr):\n",
    "        self.attr = attr\n",
    "\n",
    "obj = MyClass(10)\n",
    "print(obj.attr)  # Output: 10\n",
    "obj.attr = 20\n",
    "print(obj.attr)  # Output: 20"
   ]
  },
  {
   "cell_type": "markdown",
   "metadata": {},
   "source": [
    "## 13. Context Managers"
   ]
  },
  {
   "cell_type": "markdown",
   "metadata": {},
   "source": [
    "### Creating a Custom Context Manager:"
   ]
  },
  {
   "cell_type": "code",
   "execution_count": null,
   "metadata": {},
   "outputs": [],
   "source": [
    "class MyContextManager:\n",
    "    def __enter__(self):\n",
    "        print(\"Entering context\")\n",
    "        return self\n",
    "\n",
    "    def __exit__(self, exc_type, exc_value, traceback):\n",
    "        print(\"Exiting context\")\n",
    "\n",
    "with MyContextManager():\n",
    "    print(\"Inside context\")\n",
    "# Output:\n",
    "# Entering context\n",
    "# Inside context\n",
    "# Exiting context"
   ]
  },
  {
   "cell_type": "markdown",
   "metadata": {},
   "source": [
    "## 14. Decorators"
   ]
  },
  {
   "cell_type": "markdown",
   "metadata": {},
   "source": [
    "### Class Decorators:"
   ]
  },
  {
   "cell_type": "code",
   "execution_count": null,
   "metadata": {},
   "outputs": [],
   "source": [
    "def decorator(cls):\n",
    "    class Wrapped(cls):\n",
    "        def __init__(self, *args, **kwargs):\n",
    "            super().__init__(*args, **kwargs)\n",
    "            print(f\"Instance of {cls.__name__} created\")\n",
    "    return Wrapped\n",
    "\n",
    "@decorator\n",
    "class MyClass:\n",
    "    def __init__(self, value):\n",
    "        self.value = value\n",
    "\n",
    "obj = MyClass(10)\n",
    "# Output: Instance of MyClass created"
   ]
  }
 ],
 "metadata": {
  "kernelspec": {
   "display_name": "Python 3",
   "language": "python",
   "name": "python3"
  },
  "language_info": {
   "codemirror_mode": {
    "name": "ipython",
    "version": 3
   },
   "file_extension": ".py",
   "mimetype": "text/x-python",
   "name": "python",
   "nbconvert_exporter": "python",
   "pygments_lexer": "ipython3",
   "version": "3.13.1"
  }
 },
 "nbformat": 4,
 "nbformat_minor": 2
}
